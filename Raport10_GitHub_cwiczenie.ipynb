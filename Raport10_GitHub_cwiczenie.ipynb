{
  "nbformat": 4,
  "nbformat_minor": 0,
  "metadata": {
    "colab": {
      "provenance": [],
      "authorship_tag": "ABX9TyPi4xOygqdR7p/uwlXkFo7X",
      "include_colab_link": true
    },
    "kernelspec": {
      "name": "python3",
      "display_name": "Python 3"
    },
    "language_info": {
      "name": "python"
    }
  },
  "cells": [
    {
      "cell_type": "markdown",
      "metadata": {
        "id": "view-in-github",
        "colab_type": "text"
      },
      "source": [
        "<a href=\"https://colab.research.google.com/github/Kinga122729/Raport10/blob/main/Raport10_GitHub_cwiczenie.ipynb\" target=\"_parent\"><img src=\"https://colab.research.google.com/assets/colab-badge.svg\" alt=\"Open In Colab\"/></a>"
      ]
    },
    {
      "cell_type": "markdown",
      "source": [
        "# Raport 8"
      ],
      "metadata": {
        "id": "TQ6CtewWSZxx"
      }
    },
    {
      "cell_type": "code",
      "source": [
        "def google_ready():\n",
        "  google_step2 = raw_google()\n",
        "  google_step3 = only_good_length_rows(google_step2)\n",
        "  google_step5 = step5_google(google_step3[1:])\n",
        "  google_step7, google_nonEnglish = step7(google_step5, 0)\n",
        "  google_English_free = step8(google_step7, 7)\n",
        "  return google_English_free\n",
        "\n",
        "def apple_ready():\n",
        "  apple_step2 = raw_apple()\n",
        "  apple_step3 = only_good_length_rows(apple_step2)\n",
        "  apple_step5 = apple_step3[1:] # nothing to do\n",
        "  apple_step7, apple_nonEnglish = step7(apple_step5, 1)\n",
        "  apple_English_free = step8(apple_step7, 4)\n",
        "  return apple_English_free\n",
        "\n",
        "def verify_ready():\n",
        "  google_OK = google_ready() == android_final\n",
        "  apple_OK = apple_ready() == ios_final\n",
        "  print(google_OK, apple_OK)\n",
        "  return google_OK and apple_OK"
      ],
      "metadata": {
        "id": "fe0JJKV3Sey8"
      },
      "execution_count": null,
      "outputs": []
    },
    {
      "cell_type": "code",
      "source": [
        "def unich_step12_2():\n",
        "  unich = '''\n",
        "  Social Networking : 71548.34905660378\n",
        "  Photo & Video : 28441.54375\n",
        "  Games : 22788.6696905016\n",
        "  Music : 57326.530303030304\n",
        "  Reference : 74942.11111111111\n",
        "  Health & Fitness : 23298.015384615384\n",
        "  Weather : 52279.892857142855\n",
        "  Utilities : 18684.456790123455\n",
        "  Travel : 28243.8\n",
        "  Shopping : 26919.690476190477\n",
        "  News : 21248.023255813954\n",
        "  Navigation : 86090.33333333333\n",
        "  Lifestyle : 16485.764705882353\n",
        "  Entertainment : 14029.830708661417\n",
        "  Food & Drink : 33333.92307692308\n",
        "  Sports : 23008.898550724636\n",
        "  Book : 39758.5\n",
        "  Finance : 31467.944444444445\n",
        "  Education : 7003.983050847458\n",
        "  Productivity : 21028.410714285714\n",
        "  Business : 7491.117647058823\n",
        "  Catalogs : 4004.0\n",
        "  Medical : 612.0\n",
        "  '''\n",
        "  dct = {}\n",
        "  for line in unich.strip().splitlines():\n",
        "    parsed = line.split(':')\n",
        "    genre = parsed[0].strip()\n",
        "    average = float(parsed[1].strip())\n",
        "    average = int(round(average, 0))\n",
        "    dct[genre] = average\n",
        "  return sorted(dct.items(), key=lambda x: x[1], reverse=True)\n",
        "\n",
        "def verify_step12_2():\n",
        "  return unich_step12_2() == step12_2()"
      ],
      "metadata": {
        "id": "Cmhe29AlSo_q"
      },
      "execution_count": null,
      "outputs": []
    },
    {
      "cell_type": "code",
      "source": [
        "def unich_step13_2():\n",
        "    unich = '''\n",
        "    FAMILY : 3695641\n",
        "    GAME : 1558802\n",
        "    TOOLS : 1080131\n",
        "    BUSINESS : 171229\n",
        "    LIFESTYLE : 143781\n",
        "    PRODUCTIVITY : 167873\n",
        "    FINANCE : 138769\n",
        "    MEDICAL : 120550\n",
        "    SPORTS : 384480\n",
        "    PERSONALIZATION : 520148\n",
        "    COMMUNICATION : 38456119\n",
        "    HEALTH_AND_FITNESS : 418882\n",
        "    PHOTOGRAPHY : 17840110\n",
        "    NEWS_AND_MAGAZINES : 954917\n",
        "    SOCIAL : 23253652\n",
        "    TRAVEL_AND_LOCAL : 13984077\n",
        "    SHOPPING : 7036877\n",
        "    BOOKS_AND_REFERENCE : 8767811\n",
        "    WEATHER : 5074486\n",
        "    EDUCATION : 183349\n",
        "    VIDEO_PLAYERS : 24727872\n",
        "    MAPS_AND_NAVIGATION : 4056941\n",
        "    ENTERTAINMENT : 11640705\n",
        "    LIBRARIES_AND_DEMO : 638503\n",
        "    AUTO_AND_VEHICLES : 647317\n",
        "    PARENTING : 542603\n",
        "    ART_AND_DESIGN : 1986335\n",
        "    FOOD_AND_DRINK : 1924897\n",
        "    EVENTS : 428469\n",
        "    HOUSE_AND_HOME : 1331540\n",
        "    BEAUTY : 513151\n",
        "    COMICS : 817657\n",
        "    DATING : 854028\n",
        "    '''\n",
        "    dct = {}\n",
        "    for line in unich.strip().splitlines():\n",
        "        parsed = line.split(':')\n",
        "        genre = parsed[0].strip()\n",
        "        average = float(parsed[1].strip())\n",
        "        average = int(round(average, 0))\n",
        "        dct[genre] = average\n",
        "    return sorted(dct.items(), key=lambda x: x[1], reverse=True)\n"
      ],
      "metadata": {
        "id": "ZlNzKfMcWl_h"
      },
      "execution_count": null,
      "outputs": []
    },
    {
      "cell_type": "code",
      "source": [
        "def verify_step13_2():\n",
        "    return step13_2(google) == unich_step13_2()\n"
      ],
      "metadata": {
        "id": "TK8G3syYWIOg"
      },
      "execution_count": null,
      "outputs": []
    }
  ]
}